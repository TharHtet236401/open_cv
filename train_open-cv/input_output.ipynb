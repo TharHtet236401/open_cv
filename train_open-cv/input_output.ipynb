{
 "cells": [
  {
   "cell_type": "code",
   "execution_count": 1,
   "metadata": {},
   "outputs": [
    {
     "name": "stdout",
     "output_type": "stream",
     "text": [
      "c:\\Users\\Thar_Htet\\Desktop\\open_cv\\train_open-cv\\images\\red.png\n"
     ]
    },
    {
     "data": {
      "image/png": "[encoded data removed]",
      "text/plain": [
       "<Figure size 640x480 with 3 Axes>"
      ]
     },
     "metadata": {},
     "output_type": "display_data"
    }
   ],
   "source": [
    "import cv2\n",
    "import numpy as np\n",
    "import os as os\n",
    "import matplotlib.pyplot as plt\n",
    "from matplotlib import image as mlt\n",
    "\n",
    "\n",
    "root_path = os.path.join(os.getcwd(), 'images')\n",
    "red_image_path = os.path.join(root_path, 'red.png')\n",
    "\n",
    "print(red_image_path)\n",
    "\n",
    "red_image_cv2 = cv2.imread(red_image_path)\n",
    "covert_red_image_cv2 = cv2.cvtColor(red_image_cv2, cv2.COLOR_BGR2RGB)\n",
    "red_image_mlt = mlt.imread(red_image_path)\n",
    "fig , ax = plt.subplots(1,3)\n",
    "ax[0].imshow(red_image_cv2)\n",
    "ax[0].set_title('OpenCV Image')\n",
    "ax[1].imshow(red_image_mlt)\n",
    "ax[1].set_title('Matplotlib Image')\n",
    "ax[2].imshow(covert_red_image_cv2)\n",
    "ax[2].set_title('Coverted OpenCV Image')\n",
    "plt.show()\n"
   ]
  },
  {
   "cell_type": "code",
   "execution_count": 2,
   "metadata": {},
   "outputs": [
    {
     "name": "stdout",
     "output_type": "stream",
     "text": [
      "[[[255   0   0]\n",
      "  [255   0   0]\n",
      "  [255   0   0]\n",
      "  ...\n",
      "  [255   0   0]\n",
      "  [255   0   0]\n",
      "  [255   0   0]]\n",
      "\n",
      " [[255   0   0]\n",
      "  [255   0   0]\n",
      "  [255   0   0]\n",
      "  ...\n",
      "  [255   0   0]\n",
      "  [255   0   0]\n",
      "  [255   0   0]]\n",
      "\n",
      " [[255   0   0]\n",
      "  [255   0   0]\n",
      "  [255   0   0]\n",
      "  ...\n",
      "  [255   0   0]\n",
      "  [255   0   0]\n",
      "  [255   0   0]]\n",
      "\n",
      " ...\n",
      "\n",
      " [[255   0   0]\n",
      "  [255   0   0]\n",
      "  [255   0   0]\n",
      "  ...\n",
      "  [255   0   0]\n",
      "  [255   0   0]\n",
      "  [255   0   0]]\n",
      "\n",
      " [[255   0   0]\n",
      "  [255   0   0]\n",
      "  [255   0   0]\n",
      "  ...\n",
      "  [255   0   0]\n",
      "  [255   0   0]\n",
      "  [255   0   0]]\n",
      "\n",
      " [[255   0   0]\n",
      "  [255   0   0]\n",
      "  [255   0   0]\n",
      "  ...\n",
      "  [255   0   0]\n",
      "  [255   0   0]\n",
      "  [255   0   0]]]\n"
     ]
    },
    {
     "data": {
      "image/png": "[encoded data removed]",
      "text/plain": [
       "<Figure size 640x480 with 2 Axes>"
      ]
     },
     "metadata": {},
     "output_type": "display_data"
    }
   ],
   "source": [
    "\n",
    "pure_red_image = covert_red_image_cv2 * [1,0,0]+[31,0,0]\n",
    "\n",
    "# Save the pure red image\n",
    "output_path = os.path.join(root_path, 'pure_red.png')\n",
    "# Convert back to BGR for saving with cv2\n",
    "print(pure_red_image)\n",
    "covert_pure_red_image = cv2.cvtColor(pure_red_image.astype(np.uint8), cv2.COLOR_RGB2BGR) #convert to uint8 to save\n",
    "cv2.imwrite(output_path, covert_pure_red_image)\n",
    "\n",
    "\n",
    "fig , ax = plt.subplots(1,2)\n",
    "ax[0].imshow(pure_red_image)\n",
    "ax[0].set_title('Pure Red Image')\n",
    "ax[1].imshow(covert_red_image_cv2)\n",
    "ax[1].set_title('Coverted OpenCV Image Not Pure')\n",
    "plt.show()\n"
   ]
  },
  {
   "cell_type": "code",
   "execution_count": 3,
   "metadata": {},
   "outputs": [
    {
     "name": "stdout",
     "output_type": "stream",
     "text": [
      "[[[ 34  55 224]\n",
      "  [ 34  55 224]\n",
      "  [ 34  55 224]\n",
      "  ...\n",
      "  [ 34  55 224]\n",
      "  [ 34  55 224]\n",
      "  [ 34  55 224]]\n",
      "\n",
      " [[ 34  55 224]\n",
      "  [ 34  55 224]\n",
      "  [ 34  55 224]\n",
      "  ...\n",
      "  [ 34  55 224]\n",
      "  [ 34  55 224]\n",
      "  [ 34  55 224]]\n",
      "\n",
      " [[ 34  55 224]\n",
      "  [ 34  55 224]\n",
      "  [ 34  55 224]\n",
      "  ...\n",
      "  [ 34  55 224]\n",
      "  [ 34  55 224]\n",
      "  [ 34  55 224]]\n",
      "\n",
      " ...\n",
      "\n",
      " [[ 34  55 224]\n",
      "  [ 34  55 224]\n",
      "  [ 34  55 224]\n",
      "  ...\n",
      "  [ 34  55 224]\n",
      "  [ 34  55 224]\n",
      "  [ 34  55 224]]\n",
      "\n",
      " [[ 34  55 224]\n",
      "  [ 34  55 224]\n",
      "  [ 34  55 224]\n",
      "  ...\n",
      "  [ 34  55 224]\n",
      "  [ 34  55 224]\n",
      "  [ 34  55 224]]\n",
      "\n",
      " [[ 34  55 224]\n",
      "  [ 34  55 224]\n",
      "  [ 34  55 224]\n",
      "  ...\n",
      "  [ 34  55 224]\n",
      "  [ 34  55 224]\n",
      "  [ 34  55 224]]]\n"
     ]
    },
    {
     "data": {
      "text/plain": [
       "-1"
      ]
     },
     "execution_count": 3,
     "metadata": {},
     "output_type": "execute_result"
    }
   ],
   "source": [
    "print(cv2.imread(red_image_path))\n",
    "cv2.imshow('Pure Red Image', cv2.imread(red_image_path))\n",
    "cv2.waitKey(5000)\n",
    " \n"
   ]
  },
  {
   "cell_type": "markdown",
   "metadata": {},
   "source": [
    "#Reading Video"
   ]
  },
  {
   "cell_type": "code",
   "execution_count": 4,
   "metadata": {},
   "outputs": [
    {
     "name": "stdout",
     "output_type": "stream",
     "text": [
      "Looking for video at: c:\\Users\\Thar_Htet\\Desktop\\open_cv\\train_open-cv\\images\\Facebook_2.mp4\n",
      "File exists: True\n"
     ]
    }
   ],
   "source": [
    "rootpath = os.getcwd()\n",
    "video_path = os.path.join(rootpath,'images','Facebook_2.mp4')\n",
    "\n",
    "# Add debug print statements to verify the path\n",
    "print(f\"Looking for video at: {video_path}\")\n",
    "print(f\"File exists: {os.path.exists(video_path)}\")\n",
    "\n",
    "video = cv2.VideoCapture(video_path)\n",
    "\n",
    "# Check if video opened successfully\n",
    "if not video.isOpened():\n",
    "    print(\"Error: Could not open video file\")\n",
    "    exit()\n",
    "\n",
    "while True:\n",
    "    ret, frame = video.read()\n",
    "    \n",
    "    # Break the loop if video ends\n",
    "    if not ret:\n",
    "        print(\"End of video\")\n",
    "        break\n",
    "        \n",
    "    cv2.imshow('Video', frame)\n",
    "    \n",
    "    # Press 'q' to exit\n",
    "    if cv2.waitKey(25) & 0xFF == ord('q'):\n",
    "        break\n",
    "\n",
    "# Release resources\n",
    "video.release()\n",
    "cv2.destroyAllWindows()\n",
    "\n"
   ]
  },
  {
   "cell_type": "markdown",
   "metadata": {},
   "source": [
    "#reading webcam"
   ]
  },
  {
   "cell_type": "code",
   "execution_count": 41,
   "metadata": {},
   "outputs": [],
   "source": [
    "web_cam = cv2.VideoCapture(0)\n",
    "\n",
    "while True:\n",
    "    ret, frame = web_cam.read()\n",
    "    cv2.imshow('Webcam', frame)\n",
    "    if cv2.waitKey(25) & 0xFF == ord('q'):\n",
    "        break\n",
    "\n",
    "web_cam.release()\n",
    "cv2.destroyAllWindows()\n",
    "\n"
   ]
  }
 ],
 "metadata": {
  "kernelspec": {
   "display_name": "dev_env",
   "language": "python",
   "name": "python3"
  },
  "language_info": {
   "codemirror_mode": {
    "name": "ipython",
    "version": 3
   },
   "file_extension": ".py",
   "mimetype": "text/x-python",
   "name": "python",
   "nbconvert_exporter": "python",
   "pygments_lexer": "ipython3",
   "version": "3.10.16"
  }
 },
 "nbformat": 4,
 "nbformat_minor": 2
}
